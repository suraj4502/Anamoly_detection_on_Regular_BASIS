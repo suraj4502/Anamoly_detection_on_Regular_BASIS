{
 "cells": [
  {
   "cell_type": "code",
   "execution_count": 1,
   "metadata": {},
   "outputs": [],
   "source": [
    "#Impoting the libraries\n",
    "import os\n",
    "import time\n",
    "import pandas as pd\n",
    "import numpy as np\n",
    "from sklearn.neighbors import LocalOutlierFactor\n",
    "from sklearn.ensemble import IsolationForest\n",
    "import matplotlib.pyplot as plt\n",
    "import mysql.connector"
   ]
  },
  {
   "cell_type": "code",
   "execution_count": 2,
   "metadata": {},
   "outputs": [],
   "source": [
    "cnx = mysql.connector.connect(\n",
    "  user='root', host='localhost', port=3306,passwd = 'passwd',\n",
    "  database=\"Grahnumb\"\n",
    ")"
   ]
  },
  {
   "cell_type": "code",
   "execution_count": 3,
   "metadata": {},
   "outputs": [],
   "source": [
    "database_connection = cnx.cursor()"
   ]
  },
  {
   "cell_type": "code",
   "execution_count": 4,
   "metadata": {},
   "outputs": [],
   "source": [
    "# Functions to detect anamoly(outliers)\n",
    "def model_1(data):\n",
    "\ttime_series = data['value'].values.reshape(-1, 1)\n",
    "    # Fit the Isolation Forest model to the data\n",
    "\tmodel_1 = IsolationForest(contamination=0.005)\n",
    "\tmodel_1.fit(time_series)\n",
    "\tdata['outliers_1']= pd.Series(model_1.predict(data[['value']])).apply(lambda x: 'yes' if (x==-1) else 'no')\n",
    "\treturn data.query('outliers_1==\"yes\"')\n",
    "\n",
    "def model_2(data):\n",
    "\ttime_series = data.iloc[:,0].values.reshape(-1, 1)\n",
    "    # using LocalOutlierFactor method\n",
    "\tmodel_2 = LocalOutlierFactor(n_neighbors=20)\n",
    "\tdata['outliers_2']= pd.Series(model_2.fit_predict(data[['value']])).apply(lambda x: 'yes' if (x==-1) else 'no')\n",
    "\treturn data.query('outliers_2==\"yes\"')"
   ]
  },
  {
   "cell_type": "code",
   "execution_count": 13,
   "metadata": {},
   "outputs": [],
   "source": [
    "\n",
    "def detect_anomalies(file_path, database_connection):\n",
    "    print(file_path)\n",
    "    data = pd.read_excel(file_path)\n",
    "    \n",
    "    \n",
    "    anomalies_1 = model_1(data)\n",
    "    anomalies_2 = model_2(data)\n",
    "    \n",
    "    if len(anomalies_1) > len(anomalies_2):\n",
    "        insert_stmt = (\"INSERT INTO anomaly_present(filepath, no_of_anomaly)\"\n",
    "                       \"VALUES (%s, %s)\")\n",
    "        data = (file_path,len(anomalies_1))\n",
    "        database_connection.execute(insert_stmt, data)\n",
    "        cnx.commit()\n",
    "                                    \n",
    "    else:\n",
    "        insert_stmt = (\"INSERT INTO anomaly_present(filepath, no_of_anomaly)\"\n",
    "                       \"VALUES (%s, %s)\")\n",
    "        data = (file_path,len(anomalies_2))\n",
    "        database_connection.execute(insert_stmt, data)\n",
    "        cnx.commit()"
   ]
  },
  {
   "cell_type": "code",
   "execution_count": 14,
   "metadata": {},
   "outputs": [],
   "source": [
    "folder_path = r'C:\\Users\\91775\\Desktop\\Grahnumb_assignment\\data'"
   ]
  },
  {
   "cell_type": "code",
   "execution_count": 15,
   "metadata": {},
   "outputs": [],
   "source": [
    "def monitor_folder(folder_path, database_connection):\n",
    "    \"\"\"\n",
    "    Function to continuously monitor a folder for new files\n",
    "    \"\"\"\n",
    "    while True:\n",
    "        for file in os.listdir(folder_path):\n",
    "            file_path = os.path.join(folder_path, file)\n",
    "            if os.path.isfile(file_path):\n",
    "                detect_anomalies(file_path, database_connection)\n",
    "        time.sleep(60)"
   ]
  },
  {
   "cell_type": "code",
   "execution_count": 40,
   "metadata": {},
   "outputs": [],
   "source": [
    "filepath = 'test1'\n",
    "no_of_anomaly =77\n",
    "insert_query = \"\"\"INSERT INTO anomaly_present (filepath) VALUES (%s)\"\"\"\n",
    "database_connection.execute(insert_query, (filepath,))\n",
    "database_connection.commit()"
   ]
  }
 ],
 "metadata": {
  "kernelspec": {
   "display_name": "Python 3 (ipykernel)",
   "language": "python",
   "name": "python3"
  },
  "language_info": {
   "codemirror_mode": {
    "name": "ipython",
    "version": 3
   },
   "file_extension": ".py",
   "mimetype": "text/x-python",
   "name": "python",
   "nbconvert_exporter": "python",
   "pygments_lexer": "ipython3",
   "version": "3.9.13"
  },
  "vscode": {
   "interpreter": {
    "hash": "ad2bdc8ecc057115af97d19610ffacc2b4e99fae6737bb82f5d7fb13d2f2c186"
   }
  }
 },
 "nbformat": 4,
 "nbformat_minor": 2
}
