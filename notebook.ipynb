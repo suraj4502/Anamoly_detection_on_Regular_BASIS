{
 "cells": [
  {
   "cell_type": "code",
   "execution_count": 1,
   "metadata": {},
   "outputs": [],
   "source": [
    "#Impoting the libraries\n",
    "import os\n",
    "import time\n",
    "import pandas as pd\n",
    "import numpy as np\n",
    "from sklearn.neighbors import LocalOutlierFactor\n",
    "from sklearn.ensemble import IsolationForest\n",
    "import matplotlib.pyplot as plt\n",
    "import mysql.connector"
   ]
  },
  {
   "cell_type": "code",
   "execution_count": 2,
   "metadata": {},
   "outputs": [],
   "source": [
    "cnx = mysql.connector.connect(\n",
    "  user='root', host='localhost', port=3306,passwd = 'passwd',\n",
    "  database=\"Grahnumb\"\n",
    ")"
   ]
  },
  {
   "cell_type": "code",
   "execution_count": 4,
   "metadata": {},
   "outputs": [],
   "source": [
    "# Functions to detect anamoly(outliers)\n",
    "def model_1(data):\n",
    "\ttime_series = data['value'].values.reshape(-1, 1)\n",
    "    # Fit the Isolation Forest model to the data\n",
    "\tmodel_1 = IsolationForest(contamination=0.005)\n",
    "\tmodel_1.fit(time_series)\n",
    "\tdata['outliers_1']= pd.Series(model_1.predict(data[['value']])).apply(lambda x: 'yes' if (x==-1) else 'no')\n",
    "    # returs a dataframe that contains all the anomaly datapoints.\n",
    "\treturn data.query('outliers_1==\"yes\"')\n",
    "\n",
    "def model_2(data):\n",
    "\ttime_series = data.iloc[:,0].values.reshape(-1, 1)\n",
    "    # using LocalOutlierFactor method\n",
    "\tmodel_2 = LocalOutlierFactor(n_neighbors=20)\n",
    "\tdata['outliers_2']= pd.Series(model_2.fit_predict(data[['value']])).apply(lambda x: 'yes' if (x==-1) else 'no')\n",
    "    # returs a dataframe that contains all the anomaly datapoints.\n",
    "\treturn data.query('outliers_2==\"yes\"')"
   ]
  },
  {
   "cell_type": "code",
   "execution_count": 13,
   "metadata": {},
   "outputs": [],
   "source": [
    "\n",
    "def detect_anomalies(file_path, database_connection):\n",
    "    #reading the data from the folder\n",
    "    data = pd.read_excel(file_path)\n",
    "    \n",
    "    anomalies_1 = model_1(data)\n",
    "    anomalies_2 = model_2(data)\n",
    "    \n",
    "    if len(anomalies_1) > len(anomalies_2):         # basic intiution if a model predicts more anamolies then its bette  !!!haha!!\n",
    "        insert_stmt = (\"INSERT INTO anomaly_present(filepath, no_of_anomaly)\"\n",
    "                       \"VALUES (%s, %s)\")\n",
    "        data = (file_path,len(anomalies_1))\n",
    "        database_connection.execute(insert_stmt, data) # inserting the file path and no_of anamoles to a table called anamoly_present\n",
    "        for index, row in anomalies_1.iterrows():\n",
    "            database_connection.execute(\"INSERT INTO anomalies (filepath,anomalies) VALUES (%s,%s)\", (file_path,str(row.to_dict()),))\n",
    "                # storing the file path and all the anamoly datapoint to a table called anomales.\n",
    "        cnx.commit()\n",
    "                                    \n",
    "    else:\n",
    "        insert_stmt = (\"INSERT INTO anomaly_present(filepath, no_of_anomaly)\"\n",
    "                       \"VALUES (%s, %s)\")\n",
    "        data = (file_path,len(anomalies_2))\n",
    "        database_connection.execute(insert_stmt, data)\n",
    "        for index, row in anomalies_2.iterrows():\n",
    "            database_connection.execute(\"INSERT INTO anomalies (filepath,anomalies) VALUES (%s,%s)\", (file_path,str(row.to_dict()),))\n",
    "        cnx.commit()\n"
   ]
  },
  {
   "cell_type": "code",
   "execution_count": 15,
   "metadata": {},
   "outputs": [],
   "source": [
    "def monitor_folder(folder_path, database_connection):\n",
    "# Function to continuously monitor a folder for new files\n",
    "    while True:\n",
    "        for file in os.listdir(folder_path):             # list all the files in the directory\n",
    "            file_path = os.path.join(folder_path, file)  # join the folder path with the file name\n",
    "            if os.path.isfile(file_path):                # if theres a file then do the following\n",
    "                detect_anomalies(file_path, database_connection)\n",
    "        time.sleep(60)"
   ]
  },
  {
   "cell_type": "code",
   "execution_count": 40,
   "metadata": {},
   "outputs": [],
   "source": [
    "if __name__ == \"__main__\":\n",
    "    folder_path = r'C:\\Users\\91775\\Desktop\\Grahnumb_assignment\\data'\n",
    "    database_connection = cnx.cursor()\n",
    "    monitor_folder(folder_path, database_connection)"
   ]
  }
 ],
 "metadata": {
  "kernelspec": {
   "display_name": "Python 3 (ipykernel)",
   "language": "python",
   "name": "python3"
  },
  "language_info": {
   "codemirror_mode": {
    "name": "ipython",
    "version": 3
   },
   "file_extension": ".py",
   "mimetype": "text/x-python",
   "name": "python",
   "nbconvert_exporter": "python",
   "pygments_lexer": "ipython3",
   "version": "3.9.13"
  },
  "vscode": {
   "interpreter": {
    "hash": "ad2bdc8ecc057115af97d19610ffacc2b4e99fae6737bb82f5d7fb13d2f2c186"
   }
  }
 },
 "nbformat": 4,
 "nbformat_minor": 2
}
